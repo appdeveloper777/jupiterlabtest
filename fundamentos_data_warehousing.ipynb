{
 "cells": [
  {
   "cell_type": "markdown",
   "metadata": {},
   "source": [
    "# **Fundamentos de Data Warehousing**\n",
    "\n",
    "En este notebook, exploraremos los conceptos básicos de un Data Warehouse (almacén de datos). Un Data Warehouse es un sistema de almacenamiento de datos diseñado para el análisis y la generación de reportes, que permite la consolidación de datos de diversas fuentes."
   ]
  },
  {
   "cell_type": "markdown",
   "metadata": {},
   "source": [
    "## **1. Configuración del Entorno**\n",
    "\n",
    "Simularemos un esquema de Data Warehouse utilizando una base de datos SQLite en memoria para crear y manipular tablas de hecho y dimensiones."
   ]
  },
  {
   "cell_type": "code",
   "execution_count": 1,
   "metadata": {},
   "outputs": [],
   "source": [
    "import sqlite3\n",
    "import pandas as pd\n",
    "\n",
    "# Crear una conexión a la base de datos en memoria\n",
    "conn = sqlite3.connect(':memory:')"
   ]
  },
  {
   "cell_type": "markdown",
   "metadata": {},
   "source": [
    "## **2. Creación de Tablas Dimensionales**\n",
    "\n",
    "En un Data Warehouse, una **tabla de dimensión** contiene atributos descriptivos que proporcionan contexto a los datos numéricos. A continuación, crearemos dos tablas de dimensiones: `dim_customers` y `dim_products`."
   ]
  },
  {
   "cell_type": "code",
   "execution_count": 2,
   "metadata": {},
   "outputs": [],
   "source": [
    "# Crear tabla de dimensión 'dim_customers' y agregar datos de ejemplo\n",
    "cursor = conn.cursor()\n",
    "cursor.execute('''\n",
    "CREATE TABLE dim_customers (\n",
    "    customer_id INTEGER PRIMARY KEY,\n",
    "    customer_name TEXT,\n",
    "    region TEXT\n",
    ")\n",
    "''')\n",
    "\n",
    "customers_data = [\n",
    "    (1, 'Alice', 'North'),\n",
    "    (2, 'Bob', 'South'),\n",
    "    (3, 'Charlie', 'East')\n",
    "]\n",
    "\n",
    "cursor.executemany('INSERT INTO dim_customers VALUES (?, ?, ?)', customers_data)\n",
    "conn.commit()"
   ]
  },
  {
   "cell_type": "code",
   "execution_count": 3,
   "metadata": {},
   "outputs": [],
   "source": [
    "# Crear tabla de dimensión 'dim_products' y agregar datos de ejemplo\n",
    "cursor.execute('''\n",
    "CREATE TABLE dim_products (\n",
    "    product_id INTEGER PRIMARY KEY,\n",
    "    product_name TEXT,\n",
    "    category TEXT\n",
    ")\n",
    "''')\n",
    "\n",
    "products_data = [\n",
    "    (1, 'Laptop', 'Electronics'),\n",
    "    (2, 'Desk', 'Furniture'),\n",
    "    (3, 'Chair', 'Furniture')\n",
    "]\n",
    "\n",
    "cursor.executemany('INSERT INTO dim_products VALUES (?, ?, ?)', products_data)\n",
    "conn.commit()"
   ]
  },
  {
   "cell_type": "markdown",
   "metadata": {},
   "source": [
    "## **3. Creación de una Tabla de Hechos**\n",
    "\n",
    "Una **tabla de hechos** contiene datos numéricos (medidas) y claves de referencia a las tablas de dimensiones. Crearemos una tabla de hechos llamada `fact_sales` para registrar transacciones de ventas."
   ]
  },
  {
   "cell_type": "code",
   "execution_count": 4,
   "metadata": {},
   "outputs": [],
   "source": [
    "# Crear la tabla de hechos 'fact_sales' y agregar datos de ejemplo\n",
    "cursor.execute('''\n",
    "CREATE TABLE fact_sales (\n",
    "    sale_id INTEGER PRIMARY KEY,\n",
    "    date TEXT,\n",
    "    customer_id INTEGER,\n",
    "    product_id INTEGER,\n",
    "    amount REAL,\n",
    "    FOREIGN KEY (customer_id) REFERENCES dim_customers(customer_id),\n",
    "    FOREIGN KEY (product_id) REFERENCES dim_products(product_id)\n",
    ")\n",
    "''')\n",
    "\n",
    "sales_data = [\n",
    "    (1, '2023-01-01', 1, 1, 1200.50),\n",
    "    (2, '2023-01-05', 2, 2, 350.00),\n",
    "    (3, '2023-01-10', 3, 3, 200.00),\n",
    "    (4, '2023-01-15', 1, 3, 150.75)\n",
    "]\n",
    "\n",
    "cursor.executemany('INSERT INTO fact_sales VALUES (?, ?, ?, ?, ?)', sales_data)\n",
    "conn.commit()"
   ]
  },
  {
   "cell_type": "markdown",
   "metadata": {},
   "source": [
    "## **4. Consultas en el Data Warehouse**\n",
    "\n",
    "Ahora que hemos creado un esquema de Data Warehouse básico con tablas de dimensión y de hechos, podemos realizar consultas para obtener información útil. "
   ]
  },
  {
   "cell_type": "markdown",
   "metadata": {},
   "source": [
    "### a. Consulta de Ventas por Cliente\n",
    "\n",
    "Consultemos las ventas totales realizadas por cada cliente."
   ]
  },
  {
   "cell_type": "code",
   "execution_count": 5,
   "metadata": {},
   "outputs": [
    {
     "data": {
      "text/html": [
       "<div>\n",
       "<style scoped>\n",
       "    .dataframe tbody tr th:only-of-type {\n",
       "        vertical-align: middle;\n",
       "    }\n",
       "\n",
       "    .dataframe tbody tr th {\n",
       "        vertical-align: top;\n",
       "    }\n",
       "\n",
       "    .dataframe thead th {\n",
       "        text-align: right;\n",
       "    }\n",
       "</style>\n",
       "<table border=\"1\" class=\"dataframe\">\n",
       "  <thead>\n",
       "    <tr style=\"text-align: right;\">\n",
       "      <th></th>\n",
       "      <th>customer_name</th>\n",
       "      <th>total_sales</th>\n",
       "    </tr>\n",
       "  </thead>\n",
       "  <tbody>\n",
       "    <tr>\n",
       "      <th>0</th>\n",
       "      <td>Alice</td>\n",
       "      <td>1351.25</td>\n",
       "    </tr>\n",
       "    <tr>\n",
       "      <th>1</th>\n",
       "      <td>Bob</td>\n",
       "      <td>350.00</td>\n",
       "    </tr>\n",
       "    <tr>\n",
       "      <th>2</th>\n",
       "      <td>Charlie</td>\n",
       "      <td>200.00</td>\n",
       "    </tr>\n",
       "  </tbody>\n",
       "</table>\n",
       "</div>"
      ],
      "text/plain": [
       "  customer_name  total_sales\n",
       "0         Alice      1351.25\n",
       "1           Bob       350.00\n",
       "2       Charlie       200.00"
      ]
     },
     "execution_count": 5,
     "metadata": {},
     "output_type": "execute_result"
    }
   ],
   "source": [
    "# Consulta de ventas totales por cliente\n",
    "query = '''\n",
    "SELECT dim_customers.customer_name, SUM(fact_sales.amount) AS total_sales\n",
    "FROM fact_sales\n",
    "JOIN dim_customers ON fact_sales.customer_id = dim_customers.customer_id\n",
    "GROUP BY dim_customers.customer_name\n",
    "'''\n",
    "df = pd.read_sql_query(query, conn)\n",
    "df"
   ]
  },
  {
   "cell_type": "markdown",
   "metadata": {},
   "source": [
    "### b. Consulta de Ventas por Categoría de Producto\n",
    "\n",
    "Podemos analizar las ventas por categoría de producto para ver cuáles son las más vendidas."
   ]
  },
  {
   "cell_type": "code",
   "execution_count": 6,
   "metadata": {},
   "outputs": [
    {
     "data": {
      "text/html": [
       "<div>\n",
       "<style scoped>\n",
       "    .dataframe tbody tr th:only-of-type {\n",
       "        vertical-align: middle;\n",
       "    }\n",
       "\n",
       "    .dataframe tbody tr th {\n",
       "        vertical-align: top;\n",
       "    }\n",
       "\n",
       "    .dataframe thead th {\n",
       "        text-align: right;\n",
       "    }\n",
       "</style>\n",
       "<table border=\"1\" class=\"dataframe\">\n",
       "  <thead>\n",
       "    <tr style=\"text-align: right;\">\n",
       "      <th></th>\n",
       "      <th>category</th>\n",
       "      <th>total_sales</th>\n",
       "    </tr>\n",
       "  </thead>\n",
       "  <tbody>\n",
       "    <tr>\n",
       "      <th>0</th>\n",
       "      <td>Electronics</td>\n",
       "      <td>1200.50</td>\n",
       "    </tr>\n",
       "    <tr>\n",
       "      <th>1</th>\n",
       "      <td>Furniture</td>\n",
       "      <td>700.75</td>\n",
       "    </tr>\n",
       "  </tbody>\n",
       "</table>\n",
       "</div>"
      ],
      "text/plain": [
       "      category  total_sales\n",
       "0  Electronics      1200.50\n",
       "1    Furniture       700.75"
      ]
     },
     "execution_count": 6,
     "metadata": {},
     "output_type": "execute_result"
    }
   ],
   "source": [
    "# Consulta de ventas totales por categoría de producto\n",
    "query = '''\n",
    "SELECT dim_products.category, SUM(fact_sales.amount) AS total_sales\n",
    "FROM fact_sales\n",
    "JOIN dim_products ON fact_sales.product_id = dim_products.product_id\n",
    "GROUP BY dim_products.category\n",
    "'''\n",
    "df = pd.read_sql_query(query, conn)\n",
    "df"
   ]
  },
  {
   "cell_type": "markdown",
   "metadata": {},
   "source": [
    "### c. Consulta de Ventas por Fecha\n",
    "\n",
    "Finalmente, podemos analizar las ventas por fecha para ver cómo varían las ventas a lo largo del tiempo."
   ]
  },
  {
   "cell_type": "code",
   "execution_count": 7,
   "metadata": {},
   "outputs": [
    {
     "data": {
      "text/html": [
       "<div>\n",
       "<style scoped>\n",
       "    .dataframe tbody tr th:only-of-type {\n",
       "        vertical-align: middle;\n",
       "    }\n",
       "\n",
       "    .dataframe tbody tr th {\n",
       "        vertical-align: top;\n",
       "    }\n",
       "\n",
       "    .dataframe thead th {\n",
       "        text-align: right;\n",
       "    }\n",
       "</style>\n",
       "<table border=\"1\" class=\"dataframe\">\n",
       "  <thead>\n",
       "    <tr style=\"text-align: right;\">\n",
       "      <th></th>\n",
       "      <th>date</th>\n",
       "      <th>total_sales</th>\n",
       "    </tr>\n",
       "  </thead>\n",
       "  <tbody>\n",
       "    <tr>\n",
       "      <th>0</th>\n",
       "      <td>2023-01-01</td>\n",
       "      <td>1200.50</td>\n",
       "    </tr>\n",
       "    <tr>\n",
       "      <th>1</th>\n",
       "      <td>2023-01-05</td>\n",
       "      <td>350.00</td>\n",
       "    </tr>\n",
       "    <tr>\n",
       "      <th>2</th>\n",
       "      <td>2023-01-10</td>\n",
       "      <td>200.00</td>\n",
       "    </tr>\n",
       "    <tr>\n",
       "      <th>3</th>\n",
       "      <td>2023-01-15</td>\n",
       "      <td>150.75</td>\n",
       "    </tr>\n",
       "  </tbody>\n",
       "</table>\n",
       "</div>"
      ],
      "text/plain": [
       "         date  total_sales\n",
       "0  2023-01-01      1200.50\n",
       "1  2023-01-05       350.00\n",
       "2  2023-01-10       200.00\n",
       "3  2023-01-15       150.75"
      ]
     },
     "execution_count": 7,
     "metadata": {},
     "output_type": "execute_result"
    }
   ],
   "source": [
    "# Consulta de ventas totales por fecha\n",
    "query = '''\n",
    "SELECT date, SUM(amount) AS total_sales\n",
    "FROM fact_sales\n",
    "GROUP BY date\n",
    "ORDER BY date\n",
    "'''\n",
    "df = pd.read_sql_query(query, conn)\n",
    "df"
   ]
  }
 ],
 "metadata": {
  "kernelspec": {
   "display_name": "Python 3 (ipykernel)",
   "language": "python",
   "name": "python3"
  },
  "language_info": {
   "codemirror_mode": {
    "name": "ipython",
    "version": 3
   },
   "file_extension": ".py",
   "mimetype": "text/x-python",
   "name": "python",
   "nbconvert_exporter": "python",
   "pygments_lexer": "ipython3",
   "version": "3.9.12"
  }
 },
 "nbformat": 4,
 "nbformat_minor": 4
}
