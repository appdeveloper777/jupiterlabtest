{
 "cells": [
  {
   "cell_type": "markdown",
   "metadata": {},
   "source": [
    "# **Procesamiento de Datos en Tiempo Real y Streaming**\n",
    "\n",
    "En este notebook, exploraremos los conceptos básicos de procesamiento de datos en tiempo real y cómo manejar flujos de datos (data streaming). Esto es fundamental en aplicaciones que requieren análisis en tiempo real, como monitoreo de sensores, transacciones financieras o redes sociales."
   ]
  },
  {
   "cell_type": "markdown",
   "metadata": {},
   "source": [
    "## **1. Introducción al Procesamiento en Tiempo Real**\n",
    "\n",
    "El procesamiento en tiempo real implica la ingestión y el procesamiento de datos tan pronto como estos están disponibles. Utilizaremos `pandas` y `time` para simular un flujo de datos continuo en este ejemplo."
   ]
  },
  {
   "cell_type": "code",
   "execution_count": 1,
   "metadata": {},
   "outputs": [],
   "source": [
    "import pandas as pd\n",
    "import time\n",
    "from random import randint\n",
    "\n",
    "# Función para simular la generación de datos en tiempo real\n",
    "def generate_data_stream():\n",
    "    data = {\n",
    "        'timestamp': pd.Timestamp.now(),\n",
    "        'sensor_id': randint(1, 5),\n",
    "        'temperature': randint(20, 30),\n",
    "        'humidity': randint(30, 60)\n",
    "    }\n",
    "    return data\n"
   ]
  },
  {
   "cell_type": "markdown",
   "metadata": {},
   "source": [
    "## **2. Simulación de Ingesta de Datos en Tiempo Real**\n",
    "\n",
    "Simularemos la ingesta de datos en tiempo real utilizando la función `generate_data_stream`. Cada dato nuevo se imprimirá como si se estuviera recibiendo de un sensor en tiempo real."
   ]
  },
  {
   "cell_type": "code",
   "execution_count": 2,
   "metadata": {},
   "outputs": [
    {
     "name": "stdout",
     "output_type": "stream",
     "text": [
      "{'timestamp': Timestamp('2024-11-04 01:38:48.365466'), 'sensor_id': 4, 'temperature': 24, 'humidity': 44}\n",
      "{'timestamp': Timestamp('2024-11-04 01:38:49.375742'), 'sensor_id': 3, 'temperature': 22, 'humidity': 41}\n",
      "{'timestamp': Timestamp('2024-11-04 01:38:50.388248'), 'sensor_id': 1, 'temperature': 27, 'humidity': 56}\n",
      "{'timestamp': Timestamp('2024-11-04 01:38:51.398548'), 'sensor_id': 1, 'temperature': 26, 'humidity': 54}\n",
      "{'timestamp': Timestamp('2024-11-04 01:38:52.411660'), 'sensor_id': 5, 'temperature': 27, 'humidity': 59}\n",
      "{'timestamp': Timestamp('2024-11-04 01:38:53.421022'), 'sensor_id': 2, 'temperature': 29, 'humidity': 36}\n",
      "{'timestamp': Timestamp('2024-11-04 01:38:54.433155'), 'sensor_id': 1, 'temperature': 23, 'humidity': 43}\n",
      "{'timestamp': Timestamp('2024-11-04 01:38:55.437382'), 'sensor_id': 1, 'temperature': 27, 'humidity': 44}\n",
      "{'timestamp': Timestamp('2024-11-04 01:38:56.451641'), 'sensor_id': 2, 'temperature': 30, 'humidity': 33}\n",
      "{'timestamp': Timestamp('2024-11-04 01:38:57.454503'), 'sensor_id': 1, 'temperature': 21, 'humidity': 57}\n"
     ]
    },
    {
     "data": {
      "text/html": [
       "<div>\n",
       "<style scoped>\n",
       "    .dataframe tbody tr th:only-of-type {\n",
       "        vertical-align: middle;\n",
       "    }\n",
       "\n",
       "    .dataframe tbody tr th {\n",
       "        vertical-align: top;\n",
       "    }\n",
       "\n",
       "    .dataframe thead th {\n",
       "        text-align: right;\n",
       "    }\n",
       "</style>\n",
       "<table border=\"1\" class=\"dataframe\">\n",
       "  <thead>\n",
       "    <tr style=\"text-align: right;\">\n",
       "      <th></th>\n",
       "      <th>timestamp</th>\n",
       "      <th>sensor_id</th>\n",
       "      <th>temperature</th>\n",
       "      <th>humidity</th>\n",
       "    </tr>\n",
       "  </thead>\n",
       "  <tbody>\n",
       "    <tr>\n",
       "      <th>0</th>\n",
       "      <td>2024-11-04 01:38:48.365466</td>\n",
       "      <td>4</td>\n",
       "      <td>24</td>\n",
       "      <td>44</td>\n",
       "    </tr>\n",
       "    <tr>\n",
       "      <th>1</th>\n",
       "      <td>2024-11-04 01:38:49.375742</td>\n",
       "      <td>3</td>\n",
       "      <td>22</td>\n",
       "      <td>41</td>\n",
       "    </tr>\n",
       "    <tr>\n",
       "      <th>2</th>\n",
       "      <td>2024-11-04 01:38:50.388248</td>\n",
       "      <td>1</td>\n",
       "      <td>27</td>\n",
       "      <td>56</td>\n",
       "    </tr>\n",
       "    <tr>\n",
       "      <th>3</th>\n",
       "      <td>2024-11-04 01:38:51.398548</td>\n",
       "      <td>1</td>\n",
       "      <td>26</td>\n",
       "      <td>54</td>\n",
       "    </tr>\n",
       "    <tr>\n",
       "      <th>4</th>\n",
       "      <td>2024-11-04 01:38:52.411660</td>\n",
       "      <td>5</td>\n",
       "      <td>27</td>\n",
       "      <td>59</td>\n",
       "    </tr>\n",
       "  </tbody>\n",
       "</table>\n",
       "</div>"
      ],
      "text/plain": [
       "                   timestamp  sensor_id  temperature  humidity\n",
       "0 2024-11-04 01:38:48.365466          4           24        44\n",
       "1 2024-11-04 01:38:49.375742          3           22        41\n",
       "2 2024-11-04 01:38:50.388248          1           27        56\n",
       "3 2024-11-04 01:38:51.398548          1           26        54\n",
       "4 2024-11-04 01:38:52.411660          5           27        59"
      ]
     },
     "execution_count": 2,
     "metadata": {},
     "output_type": "execute_result"
    }
   ],
   "source": [
    "# Configuración para recibir 10 mensajes simulados de datos de sensores\n",
    "data_stream = []\n",
    "for _ in range(10):\n",
    "    new_data = generate_data_stream()\n",
    "    data_stream.append(new_data)\n",
    "    print(new_data)\n",
    "    time.sleep(1)  # Espera de 1 segundo para simular el tiempo real\n",
    "\n",
    "# Convertir el flujo de datos a un DataFrame\n",
    "df_stream = pd.DataFrame(data_stream)\n",
    "df_stream.head()"
   ]
  },
  {
   "cell_type": "markdown",
   "metadata": {},
   "source": [
    "## **3. Procesamiento de Datos en Tiempo Real**\n",
    "\n",
    "En el procesamiento de datos en tiempo real, se realizan análisis o transformaciones de los datos a medida que llegan. Realizaremos una operación simple que calcula el promedio de `temperature` y `humidity` en el flujo de datos simulado."
   ]
  },
  {
   "cell_type": "code",
   "execution_count": 3,
   "metadata": {},
   "outputs": [
    {
     "name": "stdout",
     "output_type": "stream",
     "text": [
      "Promedio de temperatura: 25.6 °C\n",
      "Promedio de humedad: 46.7 %\n"
     ]
    }
   ],
   "source": [
    "# Calcular las estadísticas de temperatura y humedad\n",
    "average_temp = df_stream['temperature'].mean()\n",
    "average_humidity = df_stream['humidity'].mean()\n",
    "\n",
    "print(f\"Promedio de temperatura: {average_temp} °C\")\n",
    "print(f\"Promedio de humedad: {average_humidity} %\")"
   ]
  },
  {
   "cell_type": "markdown",
   "metadata": {},
   "source": [
    "## **4. Detección de Anomalías en Tiempo Real**\n",
    "\n",
    "Una aplicación común del procesamiento en tiempo real es la detección de anomalías, donde valores inusuales son identificados y gestionados en tiempo real."
   ]
  },
  {
   "cell_type": "code",
   "execution_count": 4,
   "metadata": {},
   "outputs": [
    {
     "name": "stdout",
     "output_type": "stream",
     "text": [
      "Anomalías detectadas:\n",
      "                   timestamp  sensor_id  temperature  humidity\n",
      "2 2024-11-04 01:38:50.388248          1           27        56\n",
      "4 2024-11-04 01:38:52.411660          5           27        59\n",
      "5 2024-11-04 01:38:53.421022          2           29        36\n",
      "8 2024-11-04 01:38:56.451641          2           30        33\n",
      "9 2024-11-04 01:38:57.454503          1           21        57\n"
     ]
    }
   ],
   "source": [
    "# Definir umbrales para detectar anomalías\n",
    "temperature_threshold = 28  # Ejemplo de umbral alto de temperatura\n",
    "humidity_threshold = 55    # Ejemplo de umbral alto de humedad\n",
    "\n",
    "# Detectar y mostrar valores anómalos\n",
    "anomalies = df_stream[(df_stream['temperature'] > temperature_threshold) | \n",
    "                      (df_stream['humidity'] > humidity_threshold)]\n",
    "\n",
    "print(\"Anomalías detectadas:\")\n",
    "print(anomalies)"
   ]
  }
 ],
 "metadata": {
  "kernelspec": {
   "display_name": "Python 3 (ipykernel)",
   "language": "python",
   "name": "python3"
  },
  "language_info": {
   "codemirror_mode": {
    "name": "ipython",
    "version": 3
   },
   "file_extension": ".py",
   "mimetype": "text/x-python",
   "name": "python",
   "nbconvert_exporter": "python",
   "pygments_lexer": "ipython3",
   "version": "3.9.12"
  }
 },
 "nbformat": 4,
 "nbformat_minor": 4
}
