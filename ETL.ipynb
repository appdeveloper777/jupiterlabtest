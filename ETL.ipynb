{
 "cells": [
  {
   "cell_type": "markdown",
   "id": "670e5636-3a91-4ff8-a4aa-add9ef5b7c9d",
   "metadata": {},
   "source": [
    "<h1> Extracción (Extract)</h1>"
   ]
  },
  {
   "cell_type": "markdown",
   "id": "e084d8f0-90b5-4c8f-a1fb-bc4a6a58edf4",
   "metadata": {},
   "source": [
    "<p>La extracción es el primer paso en el proceso ETL, donde se recopilan los datos de una o varias fuentes. Estas fuentes pueden incluir bases de datos, archivos CSV, APIs, sistemas en la nube, etc.</p>\n",
    "<b>Ejemplo:</b> Extraer datos desde un archivo CSV que contiene información de empleados, como su nombre, salario, edad y departamento."
   ]
  },
  {
   "cell_type": "code",
   "execution_count": 28,
   "id": "dc67e790-3958-4138-b349-d5677c2cdf6d",
   "metadata": {},
   "outputs": [
    {
     "name": "stdout",
     "output_type": "stream",
     "text": [
      "   id     name  age  salary department\n",
      "0   1    Alice   25   70000         HR\n",
      "1   2      Bob   30   80000         IT\n",
      "2   3  Charlie   35   75000    Finance\n",
      "3   4    David   40   68000         IT\n",
      "4   5      Eve   45   72000         HR\n"
     ]
    }
   ],
   "source": [
    "import pandas as pd\n",
    "# Extraer datos desde un archivo CSV\n",
    "df = pd.read_csv('path_to_your_csv_file.csv')\n",
    "print(df)"
   ]
  },
  {
   "cell_type": "markdown",
   "id": "b7042b77-b052-4137-a782-1ee5cebe1082",
   "metadata": {},
   "source": [
    "<h1> Transformación (Transform)</h1>"
   ]
  },
  {
   "cell_type": "markdown",
   "id": "e942ae5d-5f43-4c3e-9e34-12e9082caa4c",
   "metadata": {},
   "source": [
    "<p>La transformación consiste en procesar y limpiar los datos para que sean consistentes y útiles para su análisis o almacenamiento. Este paso puede incluir:</p>\n",
    "<b>Limpieza:</b> Manejo de valores nulos, duplicados y datos inconsistentes. <br>\n",
    "<b>Filtrado:</b> Selección de datos específicos según criterios. <br>\n",
    "<b>Normalización:</b> Estandarización de formatos o escalas de datos. <br>\n",
    "<b>Ejemplo:</b> Filtrar los datos para seleccionar solo los empleados con un salario superior a $70,000."
   ]
  },
  {
   "cell_type": "code",
   "execution_count": 19,
   "id": "7ebc8f69-8cf7-40c0-aa7e-68b2dcd2325a",
   "metadata": {},
   "outputs": [
    {
     "name": "stdout",
     "output_type": "stream",
     "text": [
      "   id     name  age  salary department\n",
      "1   2      Bob   30   80000         IT\n",
      "2   3  Charlie   35   75000    Finance\n",
      "4   5      Eve   45   72000         HR\n"
     ]
    }
   ],
   "source": [
    "import pandas as pd\n",
    "# Extraer datos desde un archivo CSV\n",
    "df = pd.read_csv('path_to_your_csv_file.csv')\n",
    "\n",
    "# Transformar: Filtrar empleados con salario mayor a 70000\n",
    "df_filtrado_one = df[df['salary'] > 70000]\n",
    "print(df_filtrado_one)"
   ]
  },
  {
   "cell_type": "markdown",
   "id": "5066f5ec-5f72-481a-ae96-23dd956f6aef",
   "metadata": {},
   "source": [
    "<h1>Carga (Load)</h1>"
   ]
  },
  {
   "cell_type": "markdown",
   "id": "32acb05f-e458-4e8b-a735-edd65f1388bd",
   "metadata": {},
   "source": [
    "<p>La carga es el paso final, en el que los datos transformados se insertan en un sistema de almacenamiento final, como una base de datos o un data warehouse. Este paso asegura que los datos estén disponibles para su consulta, análisis o generación de reportes.</p>\n",
    "<b>Ejemplo:</b> Insertar los datos filtrados en una base de datos SQLite para que puedan ser consultados fácilmente en el futuro."
   ]
  },
  {
   "cell_type": "code",
   "execution_count": 29,
   "id": "2dba2680-5e7f-431c-ad21-da6bdf9213d8",
   "metadata": {},
   "outputs": [
    {
     "name": "stdout",
     "output_type": "stream",
     "text": [
      "Datos después de filtrar (empleados con salario > 70000):\n",
      "   id     name  age  salary department   hire_date\n",
      "1   2      Bob   30   80000         IT  2017-06-15\n",
      "2   3  Charlie   35   75000    Finance  2016-07-10\n",
      "4   5      Eve   45   72000         HR  2014-09-01\n",
      "Datos insertados en la tabla 'empleados_filtrados'.\n",
      "   id     name  age  salary department   hire_date\n",
      "0   2      Bob   30   80000         IT  2017-06-15\n",
      "1   3  Charlie   35   75000    Finance  2016-07-10\n",
      "2   5      Eve   45   72000         HR  2014-09-01\n"
     ]
    }
   ],
   "source": [
    "import pandas as pd\n",
    "import sqlite3\n",
    "\n",
    "# Extraer datos desde un archivo CSV\n",
    "df = pd.read_csv('path_to_your_csv_file.csv')\n",
    "\n",
    "# Transformar: Filtrar empleados con salario mayor a 70000\n",
    "df_filtrado = df[df['salary'] > 70000]  # Usando el mismo nombre, df_filtrado\n",
    "print(\"Datos después de filtrar (empleados con salario > 70000):\")\n",
    "print(df_filtrado)\n",
    "\n",
    "# Conectar a la base de datos e insertar los datos filtrados\n",
    "if not df_filtrado.empty:\n",
    "    conn = sqlite3.connect('base_de_datos_ejemplo.db')\n",
    "    df_filtrado.to_sql('empleados_filtrados', conn, if_exists='replace', index=False)\n",
    "    print(\"Datos insertados en la tabla 'empleados_filtrados'.\")\n",
    "\n",
    "    # Verificar que los datos se insertaron correctamente\n",
    "    resultado = pd.read_sql_query('SELECT * FROM empleados_filtrados', conn)\n",
    "   \n",
    "    print(resultado)\n",
    "    conn.close()\n",
    "else:\n",
    "    print(\"No hay datos para insertar en la base de datos.\")\n"
   ]
  },
  {
   "cell_type": "code",
   "execution_count": null,
   "id": "c1c6c65a-721b-48ee-a662-c7b5fae2d190",
   "metadata": {},
   "outputs": [],
   "source": []
  }
 ],
 "metadata": {
  "kernelspec": {
   "display_name": "Python 3 (ipykernel)",
   "language": "python",
   "name": "python3"
  },
  "language_info": {
   "codemirror_mode": {
    "name": "ipython",
    "version": 3
   },
   "file_extension": ".py",
   "mimetype": "text/x-python",
   "name": "python",
   "nbconvert_exporter": "python",
   "pygments_lexer": "ipython3",
   "version": "3.9.12"
  }
 },
 "nbformat": 4,
 "nbformat_minor": 5
}
